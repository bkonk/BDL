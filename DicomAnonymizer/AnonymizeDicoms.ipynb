{
 "cells": [
  {
   "cell_type": "code",
   "execution_count": null,
   "metadata": {},
   "outputs": [
    {
     "name": "stdout",
     "output_type": "stream",
     "text": [
      "\n",
      " LRM site 12 Duke /\n",
      "Dicom Anonymizer Initialized\n",
      "Use Script File: C:\\Users\\bbk9\\Desktop\\repositories\\BDL\\DicomAnonymizer\\duke_abdominal_brandon_3.script\n",
      "Use Lookup Table File: /Users/bbk9/Downloads/BDL/DicomAnonymizer/duke_abdominal_brandon.config\n",
      "Anonymizing LRM site 12 Duke\n",
      "Assuming the dataset has the Dataset/Patient/Exam/Series/DicomFiles structure\n"
     ]
    },
    {
     "name": "stderr",
     "output_type": "stream",
     "text": [
      "\n",
      "  0%|          | 0/1 [00:00<?, ?it/s]\n",
      "100%|██████████| 1/1 [01:51<00:00, 111.94s/it]\n",
      "  0%|          | 0/1 [00:00<?, ?it/s]\n",
      "100%|██████████| 1/1 [02:07<00:00, 127.93s/it]\n",
      "  0%|          | 0/1 [00:00<?, ?it/s]"
     ]
    }
   ],
   "source": [
    "import os\n",
    "import sys\n",
    "cwd = os.getcwd()\n",
    "sys.path.insert(1, cwd)\n",
    "import Anonymizer_2\n",
    "\n",
    "root_read = 'Y:\\Bashir_Research\\Projects_Secured\\AI_Projects\\LR-M Image Data - assess'\n",
    "root_write = 'Y:\\Bashir_Research\\Projects_Secured\\AI_Projects\\LR-M Image Data - deid version4'\n",
    "if not os.path.exists(root_write):\n",
    "    os.mkdir(root_write)\n",
    "scriptFile = os.path.join(cwd, 'duke_abdominal_brandon_3.script')\n",
    "\n",
    "\n",
    "zip_list = []\n",
    "ds_list = []\n",
    "dcm_list = []\n",
    "path_list = []\n",
    "\n",
    "for case in os.listdir(root_read):\n",
    "    case_dir = os.path.join(root_read, case)\n",
    "    \n",
    "    if not case == 'LRM site 12 Duke':# 'Y:\\\\Bashir_Research\\\\Projects_Secured\\\\AI_Projects\\\\LR-M Image Data - assess\\\\LRM site 02 Cornell':\n",
    "        continue\n",
    "    \n",
    "    if os.path.isdir(case_dir):\n",
    "        print('\\n', case, '/')\n",
    "        \n",
    "        inputFolder = case_dir\n",
    "        outputFolder = os.path.join(root_write, case)\n",
    "#         try:\n",
    "        datasetAnonymizer = Anonymizer_2.DatasetAnonymizer(inputFolder, outputFolder, scriptFile)\n",
    "        datasetAnonymizer.anonymizeDatasetV2()\n",
    "#         except:\n",
    "#             print('ERROR: ', case)\n",
    "            \n",
    "#         break"
   ]
  },
  {
   "cell_type": "code",
   "execution_count": 5,
   "metadata": {},
   "outputs": [
    {
     "data": {
      "text/plain": [
       "(0002, 0002) Media Storage SOP Class UID         UI: CT Image Storage\n",
       "(0002, 0003) Media Storage SOP Instance UID      UI: 1.2.3\n",
       "(0002, 0012) Implementation Class UID            UI: 1.2.3.4"
      ]
     },
     "execution_count": 5,
     "metadata": {},
     "output_type": "execute_result"
    }
   ],
   "source": [
    "anonyDcmObj.file_meta"
   ]
  },
  {
   "cell_type": "code",
   "execution_count": 4,
   "metadata": {},
   "outputs": [
    {
     "data": {
      "text/plain": [
       "['__class_getitem__',\n",
       " '__contains__',\n",
       " '__delattr__',\n",
       " '__delitem__',\n",
       " '__dir__',\n",
       " '__enter__',\n",
       " '__eq__',\n",
       " '__exit__',\n",
       " '__format__',\n",
       " '__ge__',\n",
       " '__getattr__',\n",
       " '__getattribute__',\n",
       " '__getitem__',\n",
       " '__gt__',\n",
       " '__init__',\n",
       " '__init_subclass__',\n",
       " '__iter__',\n",
       " '__le__',\n",
       " '__len__',\n",
       " '__lt__',\n",
       " '__ne__',\n",
       " '__new__',\n",
       " '__reduce__',\n",
       " '__reduce_ex__',\n",
       " '__repr__',\n",
       " '__setattr__',\n",
       " '__setitem__',\n",
       " '__sizeof__',\n",
       " '__str__',\n",
       " '__subclasshook__',\n",
       " '__weakref__',\n",
       " '_character_set',\n",
       " '_convert_pixel_data_using_handler',\n",
       " '_convert_pixel_data_without_handler',\n",
       " '_dataset_slice',\n",
       " '_do_pixel_data_conversion',\n",
       " '_pretty_str',\n",
       " '_set_file_meta',\n",
       " '_slice_dataset',\n",
       " 'add',\n",
       " 'add_new',\n",
       " 'clear',\n",
       " 'convert_pixel_data',\n",
       " 'copy',\n",
       " 'data_element',\n",
       " 'decode',\n",
       " 'decompress',\n",
       " 'dir',\n",
       " 'elements',\n",
       " 'ensure_file_meta',\n",
       " 'fix_meta_info',\n",
       " 'formatted_lines',\n",
       " 'from_json',\n",
       " 'fromkeys',\n",
       " 'get',\n",
       " 'get_item',\n",
       " 'get_private_item',\n",
       " 'group_dataset',\n",
       " 'is_original_encoding',\n",
       " 'items',\n",
       " 'iterall',\n",
       " 'keys',\n",
       " 'overlay_array',\n",
       " 'pixel_array',\n",
       " 'pop',\n",
       " 'popitem',\n",
       " 'private_block',\n",
       " 'private_creators',\n",
       " 'remove_private_tags',\n",
       " 'save_as',\n",
       " 'set_original_encoding',\n",
       " 'setdefault',\n",
       " 'to_json',\n",
       " 'to_json_dict',\n",
       " 'top',\n",
       " 'trait_names',\n",
       " 'update',\n",
       " 'values',\n",
       " 'walk',\n",
       " 'waveform_array']"
      ]
     },
     "execution_count": 4,
     "metadata": {},
     "output_type": "execute_result"
    }
   ],
   "source": [
    "from pydicom.dataset import Dataset, FileDataset, FileMetaDataset\n",
    "\n",
    "file_meta = FileMetaDataset()\n",
    "file_meta.MediaStorageSOPClassUID = '1.2.840.10008.5.1.4.1.1.2'\n",
    "file_meta.MediaStorageSOPInstanceUID = \"1.2.3\"\n",
    "file_meta.ImplementationClassUID = \"1.2.3.4\"\n",
    "#         anonyDcmObj = pydicom.dataset.Dataset()\n",
    "anonyDcmObj = FileDataset([], {}, file_meta=file_meta, preamble=b\"\\0\" * 128)\n",
    "\n",
    "dir(anonyDcmObj)"
   ]
  },
  {
   "cell_type": "code",
   "execution_count": 45,
   "metadata": {},
   "outputs": [],
   "source": [
    "import os \n",
    "from glob import glob\n",
    "import pydicom as dcm\n",
    "list_glob = glob(os.path.join('Y:\\Bashir_Research\\Projects_Secured\\AI_Projects\\deid_test\\Lrm_1201_assess\\study','3Plane_Localizer','*.dcm')); list_glob.sort()\n",
    "# list_glob = glob(os.path.join(root_read,'LRM site 02 Cornell','Lrm_0201_assess', '**/*.dcm'),recursive = True)"
   ]
  },
  {
   "cell_type": "code",
   "execution_count": 7,
   "metadata": {},
   "outputs": [
    {
     "data": {
      "text/plain": [
       "Dataset.file_meta -------------------------------\n",
       "(0002, 0002) Media Storage SOP Class UID         UI: CT Image Storage\n",
       "(0002, 0003) Media Storage SOP Instance UID      UI: 1.2.3\n",
       "(0002, 0012) Implementation Class UID            UI: 1.2.3.4\n",
       "-------------------------------------------------"
      ]
     },
     "execution_count": 7,
     "metadata": {},
     "output_type": "execute_result"
    }
   ],
   "source": [
    "from pydicom.dataset import Dataset, FileDataset, FileMetaDataset\n",
    "import pydicom\n",
    "\n",
    "file_meta = FileMetaDataset()\n",
    "file_meta.MediaStorageSOPClassUID = '1.2.840.10008.5.1.4.1.1.2'\n",
    "file_meta.MediaStorageSOPInstanceUID = \"1.2.3\"\n",
    "file_meta.ImplementationClassUID = \"1.2.3.4\"\n",
    "anonyDcmObj = pydicom.dataset.Dataset()\n",
    "FileDataset([], {}, file_meta=file_meta, preamble=b\"\\0\" * 128)"
   ]
  },
  {
   "cell_type": "code",
   "execution_count": 8,
   "metadata": {},
   "outputs": [
    {
     "ename": "NameError",
     "evalue": "name 'dcm' is not defined",
     "output_type": "error",
     "traceback": [
      "\u001b[1;31m---------------------------------------------------------------------------\u001b[0m",
      "\u001b[1;31mNameError\u001b[0m                                 Traceback (most recent call last)",
      "\u001b[1;32m<ipython-input-8-f51fbb0daca8>\u001b[0m in \u001b[0;36m<module>\u001b[1;34m\u001b[0m\n\u001b[1;32m----> 1\u001b[1;33m \u001b[0mtest\u001b[0m \u001b[1;33m=\u001b[0m \u001b[0mdcm\u001b[0m\u001b[1;33m.\u001b[0m\u001b[0mdcmread\u001b[0m\u001b[1;33m(\u001b[0m\u001b[0mlist_glob\u001b[0m\u001b[1;33m[\u001b[0m\u001b[1;36m0\u001b[0m\u001b[1;33m]\u001b[0m\u001b[1;33m)\u001b[0m\u001b[1;33m\u001b[0m\u001b[1;33m\u001b[0m\u001b[0m\n\u001b[0m\u001b[0;32m      2\u001b[0m \u001b[0mdir\u001b[0m\u001b[1;33m(\u001b[0m\u001b[0mtest\u001b[0m\u001b[1;33m)\u001b[0m\u001b[1;33m\u001b[0m\u001b[1;33m\u001b[0m\u001b[0m\n",
      "\u001b[1;31mNameError\u001b[0m: name 'dcm' is not defined"
     ]
    }
   ],
   "source": [
    "test = dcm.dcmread(list_glob[0])\n",
    "dir(test)"
   ]
  },
  {
   "cell_type": "code",
   "execution_count": 47,
   "metadata": {},
   "outputs": [
    {
     "data": {
      "text/plain": [
       "'\\x00\\x00\\x00\\x00\\x00\\x00\\x00\\x00\\x00\\x00\\x00\\x00\\x00\\x00\\x00\\x00\\x00\\x00\\x00\\x00\\x00\\x00\\x00\\x00\\x00\\x00\\x00\\x00\\x00\\x00\\x00\\x00\\x00\\x00\\x00\\x00\\x00\\x00\\x00\\x00\\x00\\x00\\x00\\x00\\x00\\x00\\x00\\x00\\x00\\x00\\x00\\x00\\x00\\x00\\x00\\x00\\x00\\x00\\x00\\x00\\x00\\x00\\x00\\x00\\x00\\x00\\x00\\x00\\x00\\x00\\x00\\x00\\x00\\x00\\x00\\x00\\x00\\x00\\x00\\x00\\x00\\x00\\x00\\x00\\x00\\x00\\x00\\x00\\x00\\x00\\x00\\x00\\x00\\x00\\x00\\x00\\x00\\x00\\x00\\x00\\x00\\x00\\x00\\x00\\x00\\x00\\x00\\x00\\x00\\x00\\x00\\x00\\x00\\x00\\x00\\x00\\x00\\x00\\x00\\x00\\x00\\x00\\x00\\x00\\x00\\x00\\x00\\x00'"
      ]
     },
     "execution_count": 47,
     "metadata": {},
     "output_type": "execute_result"
    }
   ],
   "source": [
    "test.preamble"
   ]
  },
  {
   "cell_type": "code",
   "execution_count": 48,
   "metadata": {},
   "outputs": [
    {
     "data": {
      "text/plain": [
       "(0002, 0000) File Meta Information Group Length  UL: 202\n",
       "(0002, 0001) File Meta Information Version       OB: '\\x00\\x01'\n",
       "(0002, 0002) Media Storage SOP Class UID         UI: MR Image Storage\n",
       "(0002, 0003) Media Storage SOP Instance UID      UI: 1.3.6.1.4.1.19291.2.1.3.156249211121664360746033343494\n",
       "(0002, 0010) Transfer Syntax UID                 UI: JPEG Lossless, Non-Hierarchical, First-Order Prediction (Process 14 [Selection Value 1])\n",
       "(0002, 0012) Implementation Class UID            UI: 1.2.276.0.7238010.5.0.3.5.4\n",
       "(0002, 0013) Implementation Version Name         SH: u'OSIRIX'\n",
       "(0002, 0017) Sending Application Entity Title    AE: 'PACS'"
      ]
     },
     "execution_count": 48,
     "metadata": {},
     "output_type": "execute_result"
    }
   ],
   "source": [
    "test.file_meta"
   ]
  },
  {
   "cell_type": "code",
   "execution_count": null,
   "metadata": {},
   "outputs": [],
   "source": [
    "(0002, 0000) File Meta Information Group Length  UL: 202\n",
    "(0002, 0001) File Meta Information Version       OB: '\\x00\\x01'\n",
    "(0002, 0002) Media Storage SOP Class UID         UI: MR Image Storage\n",
    "(0002, 0003) Media Storage SOP Instance UID      UI: 1.3.6.1.4.1.19291.2.1.3.156249211121664360746033343494\n",
    "#(0002, 0010) Transfer Syntax UID                 UI: JPEG Lossless, Non-Hierarchical, First-Order Prediction (Process 14 [Selection Value 1])\n",
    "#(0002, 0012) Implementation Class UID            UI: 1.2.276.0.7238010.5.0.3.5.4\n",
    "(0002, 0013) Implementation Version Name         SH: u'OSIRIX'\n",
    "(0002, 0017) Sending Application Entity Title    AE: 'PACS'"
   ]
  },
  {
   "cell_type": "code",
   "execution_count": 24,
   "metadata": {},
   "outputs": [
    {
     "data": {
      "text/plain": [
       "['AccessionNumber',\n",
       " 'AcquisitionDate',\n",
       " 'AcquisitionMatrix',\n",
       " 'AcquisitionNumber',\n",
       " 'AcquisitionTime',\n",
       " 'AngioFlag',\n",
       " 'BitsAllocated',\n",
       " 'BitsStored',\n",
       " 'BodyPartExamined',\n",
       " 'Columns',\n",
       " 'CommentsOnThePerformedProcedureStep',\n",
       " 'ContentDate',\n",
       " 'ContentTime',\n",
       " 'ContrastBolusAgent',\n",
       " 'ContrastBolusIngredient',\n",
       " 'ContrastBolusIngredientConcentration',\n",
       " 'ContrastBolusTotalDose',\n",
       " 'ContrastBolusVolume',\n",
       " 'EchoNumbers',\n",
       " 'EchoTime',\n",
       " 'EchoTrainLength',\n",
       " 'FillerOrderNumberImagingServiceRequest',\n",
       " 'FlipAngle',\n",
       " 'FrameOfReferenceUID',\n",
       " 'HighBit',\n",
       " 'ImageOrientationPatient',\n",
       " 'ImagePositionPatient',\n",
       " 'ImageType',\n",
       " 'ImagedNucleus',\n",
       " 'ImagingFrequency',\n",
       " 'InPlanePhaseEncodingDirection',\n",
       " 'InstanceCreationDate',\n",
       " 'InstanceCreationTime',\n",
       " 'InstanceNumber',\n",
       " 'IssuerOfPatientID',\n",
       " 'LargestImagePixelValue',\n",
       " 'MRAcquisitionType',\n",
       " 'MagneticFieldStrength',\n",
       " 'Manufacturer',\n",
       " 'ManufacturerModelName',\n",
       " 'Modality',\n",
       " 'NumberOfAverages',\n",
       " 'NumberOfPhaseEncodingSteps',\n",
       " 'PatientAge',\n",
       " 'PatientBirthDate',\n",
       " 'PatientID',\n",
       " 'PatientName',\n",
       " 'PatientPosition',\n",
       " 'PatientSex',\n",
       " 'PatientState',\n",
       " 'PatientWeight',\n",
       " 'PercentPhaseFieldOfView',\n",
       " 'PercentSampling',\n",
       " 'PerformedProcedureStepDescription',\n",
       " 'PerformedProcedureStepID',\n",
       " 'PerformedProcedureStepStartDate',\n",
       " 'PerformedProcedureStepStartTime',\n",
       " 'PhotometricInterpretation',\n",
       " 'PixelBandwidth',\n",
       " 'PixelData',\n",
       " 'PixelRepresentation',\n",
       " 'PixelSpacing',\n",
       " 'PositionReferenceIndicator',\n",
       " 'ProcedureCodeSequence',\n",
       " 'ReferencedImageSequence',\n",
       " 'ReferencedPatientSequence',\n",
       " 'ReferencedStudySequence',\n",
       " 'ReferringPhysicianName',\n",
       " 'RepetitionTime',\n",
       " 'RequestedProcedureCodeSequence',\n",
       " 'RequestedProcedureDescription',\n",
       " 'RequestingPhysician',\n",
       " 'RequestingService',\n",
       " 'Rows',\n",
       " 'SAR',\n",
       " 'SOPClassUID',\n",
       " 'SOPInstanceUID',\n",
       " 'SamplesPerPixel',\n",
       " 'ScanOptions',\n",
       " 'ScanningSequence',\n",
       " 'SequenceName',\n",
       " 'SequenceVariant',\n",
       " 'SeriesDate',\n",
       " 'SeriesDescription',\n",
       " 'SeriesInstanceUID',\n",
       " 'SeriesNumber',\n",
       " 'SeriesTime',\n",
       " 'SliceLocation',\n",
       " 'SliceThickness',\n",
       " 'SmallestImagePixelValue',\n",
       " 'SoftwareVersions',\n",
       " 'SpacingBetweenSlices',\n",
       " 'SpecificCharacterSet',\n",
       " 'StudyDate',\n",
       " 'StudyDescription',\n",
       " 'StudyID',\n",
       " 'StudyInstanceUID',\n",
       " 'StudyTime',\n",
       " 'TransmitCoilName',\n",
       " 'VariableFlipAngleFlag',\n",
       " 'WindowCenter',\n",
       " 'WindowCenterWidthExplanation',\n",
       " 'WindowWidth',\n",
       " '__cmp__',\n",
       " '__contains__',\n",
       " '__delattr__',\n",
       " '__delitem__',\n",
       " '__dir__',\n",
       " '__enter__',\n",
       " '__eq__',\n",
       " '__exit__',\n",
       " '__format__',\n",
       " '__ge__',\n",
       " '__getattr__',\n",
       " '__getattribute__',\n",
       " '__getitem__',\n",
       " '__gt__',\n",
       " '__init__',\n",
       " '__iter__',\n",
       " '__le__',\n",
       " '__len__',\n",
       " '__lt__',\n",
       " '__ne__',\n",
       " '__new__',\n",
       " '__reduce__',\n",
       " '__reduce_ex__',\n",
       " '__repr__',\n",
       " '__setattr__',\n",
       " '__setitem__',\n",
       " '__sizeof__',\n",
       " '__str__',\n",
       " '__subclasshook__',\n",
       " '__weakref__',\n",
       " '_character_set',\n",
       " '_convert_to_python_number',\n",
       " '_data_element_to_json',\n",
       " '_dataset_slice',\n",
       " '_pretty_str',\n",
       " '_slice_dataset',\n",
       " 'add',\n",
       " 'add_new',\n",
       " 'clear',\n",
       " 'convert_pixel_data',\n",
       " 'copy',\n",
       " 'dBdt',\n",
       " 'data_element',\n",
       " 'decode',\n",
       " 'decompress',\n",
       " 'dir',\n",
       " 'elements',\n",
       " 'ensure_file_meta',\n",
       " 'fix_meta_info',\n",
       " 'formatted_lines',\n",
       " 'from_json',\n",
       " 'fromkeys',\n",
       " 'get',\n",
       " 'get_item',\n",
       " 'get_private_item',\n",
       " 'group_dataset',\n",
       " 'has_key',\n",
       " 'is_original_encoding',\n",
       " 'items',\n",
       " 'iterall',\n",
       " 'iteritems',\n",
       " 'iterkeys',\n",
       " 'itervalues',\n",
       " 'keys',\n",
       " 'pixel_array',\n",
       " 'pop',\n",
       " 'popitem',\n",
       " 'private_block',\n",
       " 'private_creators',\n",
       " 'remove_private_tags',\n",
       " 'save_as',\n",
       " 'set_original_encoding',\n",
       " 'setdefault',\n",
       " 'to_json',\n",
       " 'top',\n",
       " 'trait_names',\n",
       " 'update',\n",
       " 'values',\n",
       " 'viewitems',\n",
       " 'viewkeys',\n",
       " 'viewvalues',\n",
       " 'walk']"
      ]
     },
     "execution_count": 24,
     "metadata": {},
     "output_type": "execute_result"
    }
   ],
   "source": [
    "dir(test)"
   ]
  },
  {
   "cell_type": "code",
   "execution_count": null,
   "metadata": {},
   "outputs": [],
   "source": []
  }
 ],
 "metadata": {
  "kernelspec": {
   "display_name": "Python 3",
   "language": "python",
   "name": "python3"
  }
 },
 "nbformat": 4,
 "nbformat_minor": 2
}
