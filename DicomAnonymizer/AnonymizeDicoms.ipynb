import os
import sys
sys.path.insert(1, '/Users/bbk9/Downloads/BDL-master')
from DicomAnonymizer import Anonymizer_2

root_read = 'Y:\Bashir_Research\Projects_Secured\AI_Projects\LR-M Image Data - assess'
root_write = 'Y:\Bashir_Research\Projects_Secured\AI_Projects\LR-M Image Data - deid version3'
if not os.path.exists(root_write):
    os.mkdir(root_write)
scriptFile = '/Users/bbk9/Downloads/BDL-master/DicomAnonymizer/duke_abdominal_brandon_3.script'


zip_list = []
ds_list = []
dcm_list = []
path_list = []

for case in os.listdir(root_read):
    case_dir = os.path.join(root_read, case)
    
    if not case == 'LRM site 12 Duke':# 'Y:\\Bashir_Research\\Projects_Secured\\AI_Projects\\LR-M Image Data - assess\\LRM site 02 Cornell':
        continue
    
    if os.path.isdir(case_dir):
        print('\n', case, '/')
        
        inputFolder = case_dir
        outputFolder = os.path.join(root_write, case)
        try:
            datasetAnonymizer = Anonymizer_2.DatasetAnonymizer(inputFolder, outputFolder, scriptFile)
            datasetAnonymizer.anonymizeDatasetV2()
        except:
            print('ERROR: ', case)
            
        break
