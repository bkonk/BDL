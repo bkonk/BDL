{
 "cells": [
  {
   "cell_type": "code",
   "execution_count": 18,
   "metadata": {},
   "outputs": [
    {
     "name": "stdout",
     "output_type": "stream",
     "text": [
      "('\\n', 'LRM site 12 Duke', '/')\n",
      "Dicom Anonymizer Initialized\n",
      "Use Script File: C:\\Users\\bbk9\\Downloads\\BDL\\DicomAnonymizer\\duke_abdominal_brandon_3.script\n",
      "Use Lookup Table File: /Users/bbk9/Downloads/BDL/DicomAnonymizer/duke_abdominal_brandon.config\n",
      "Anonymizing LRM site 12 Duke\n",
      "Assuming the dataset has the Dataset/Patient/Exam/Series/DicomFiles structure\n"
     ]
    },
    {
     "name": "stderr",
     "output_type": "stream",
     "text": [
      "  0%|          | 0/1 [00:00<?, ?it/s]\n"
     ]
    },
    {
     "ename": "KeyboardInterrupt",
     "evalue": "",
     "output_type": "error",
     "traceback": [
      "\u001b[1;31m\u001b[0m",
      "\u001b[1;31mKeyboardInterrupt\u001b[0mTraceback (most recent call last)",
      "\u001b[1;32m<ipython-input-18-218dc0c17d3b>\u001b[0m in \u001b[0;36m<module>\u001b[1;34m()\u001b[0m\n\u001b[0;32m     30\u001b[0m \u001b[1;31m#         try:\u001b[0m\u001b[1;33m\u001b[0m\u001b[1;33m\u001b[0m\u001b[0m\n\u001b[0;32m     31\u001b[0m         \u001b[0mdatasetAnonymizer\u001b[0m \u001b[1;33m=\u001b[0m \u001b[0mAnonymizer_2\u001b[0m\u001b[1;33m.\u001b[0m\u001b[0mDatasetAnonymizer\u001b[0m\u001b[1;33m(\u001b[0m\u001b[0minputFolder\u001b[0m\u001b[1;33m,\u001b[0m \u001b[0moutputFolder\u001b[0m\u001b[1;33m,\u001b[0m \u001b[0mscriptFile\u001b[0m\u001b[1;33m)\u001b[0m\u001b[1;33m\u001b[0m\u001b[0m\n\u001b[1;32m---> 32\u001b[1;33m         \u001b[0mdatasetAnonymizer\u001b[0m\u001b[1;33m.\u001b[0m\u001b[0manonymizeDatasetV2\u001b[0m\u001b[1;33m(\u001b[0m\u001b[1;33m)\u001b[0m\u001b[1;33m\u001b[0m\u001b[0m\n\u001b[0m\u001b[0;32m     33\u001b[0m \u001b[1;31m#         except:\u001b[0m\u001b[1;33m\u001b[0m\u001b[1;33m\u001b[0m\u001b[0m\n\u001b[0;32m     34\u001b[0m \u001b[1;31m#             print('ERROR: ', case)\u001b[0m\u001b[1;33m\u001b[0m\u001b[1;33m\u001b[0m\u001b[0m\n",
      "\u001b[1;32m/Users/bbk9/Downloads/BDL-master\\DicomAnonymizer\\Anonymizer_2.pyc\u001b[0m in \u001b[0;36manonymizeDatasetV2\u001b[1;34m(self)\u001b[0m\n\u001b[0;32m    344\u001b[0m                     \u001b[0mdicom_file_list\u001b[0m \u001b[1;33m=\u001b[0m \u001b[0mglob\u001b[0m\u001b[1;33m.\u001b[0m\u001b[0mglob\u001b[0m\u001b[1;33m(\u001b[0m\u001b[0mseries_folder\u001b[0m\u001b[1;33m+\u001b[0m\u001b[1;34m\"/*\"\u001b[0m\u001b[1;33m)\u001b[0m\u001b[1;33m\u001b[0m\u001b[0m\n\u001b[0;32m    345\u001b[0m                     \u001b[1;32mfor\u001b[0m \u001b[0mdicom_file\u001b[0m \u001b[1;32min\u001b[0m \u001b[0mdicom_file_list\u001b[0m\u001b[1;33m:\u001b[0m\u001b[1;33m\u001b[0m\u001b[0m\n\u001b[1;32m--> 346\u001b[1;33m                         \u001b[0mdcm\u001b[0m \u001b[1;33m=\u001b[0m \u001b[0mpydicom\u001b[0m\u001b[1;33m.\u001b[0m\u001b[0mdcmread\u001b[0m\u001b[1;33m(\u001b[0m\u001b[0mdicom_file\u001b[0m\u001b[1;33m)\u001b[0m\u001b[1;33m\u001b[0m\u001b[0m\n\u001b[0m\u001b[0;32m    347\u001b[0m                         \u001b[0manonymized_dcm\u001b[0m \u001b[1;33m=\u001b[0m \u001b[0mself\u001b[0m\u001b[1;33m.\u001b[0m\u001b[0manonymizeDicom\u001b[0m\u001b[1;33m(\u001b[0m\u001b[0mdcm\u001b[0m\u001b[1;33m,\u001b[0m\u001b[0manonymization_info_dict\u001b[0m\u001b[1;33m)\u001b[0m\u001b[1;33m\u001b[0m\u001b[0m\n\u001b[0;32m    348\u001b[0m \u001b[1;33m\u001b[0m\u001b[0m\n",
      "\u001b[1;32mC:\\Users\\bbk9\\AppData\\Local\\Continuum\\anaconda3\\envs\\UNET_lungseg\\lib\\site-packages\\pydicom\\filereader.pyc\u001b[0m in \u001b[0;36mdcmread\u001b[1;34m(fp, defer_size, stop_before_pixels, force, specific_tags)\u001b[0m\n\u001b[0;32m    848\u001b[0m     \u001b[1;32mtry\u001b[0m\u001b[1;33m:\u001b[0m\u001b[1;33m\u001b[0m\u001b[0m\n\u001b[0;32m    849\u001b[0m         dataset = read_partial(fp, stop_when, defer_size=defer_size,\n\u001b[1;32m--> 850\u001b[1;33m                                force=force, specific_tags=specific_tags)\n\u001b[0m\u001b[0;32m    851\u001b[0m     \u001b[1;32mfinally\u001b[0m\u001b[1;33m:\u001b[0m\u001b[1;33m\u001b[0m\u001b[0m\n\u001b[0;32m    852\u001b[0m         \u001b[1;32mif\u001b[0m \u001b[1;32mnot\u001b[0m \u001b[0mcaller_owns_file\u001b[0m\u001b[1;33m:\u001b[0m\u001b[1;33m\u001b[0m\u001b[0m\n",
      "\u001b[1;32mC:\\Users\\bbk9\\AppData\\Local\\Continuum\\anaconda3\\envs\\UNET_lungseg\\lib\\site-packages\\pydicom\\filereader.pyc\u001b[0m in \u001b[0;36mread_partial\u001b[1;34m(fileobj, stop_when, defer_size, force, specific_tags)\u001b[0m\n\u001b[0;32m    726\u001b[0m         dataset = read_dataset(fileobj, is_implicit_VR, is_little_endian,\n\u001b[0;32m    727\u001b[0m                                \u001b[0mstop_when\u001b[0m\u001b[1;33m=\u001b[0m\u001b[0mstop_when\u001b[0m\u001b[1;33m,\u001b[0m \u001b[0mdefer_size\u001b[0m\u001b[1;33m=\u001b[0m\u001b[0mdefer_size\u001b[0m\u001b[1;33m,\u001b[0m\u001b[1;33m\u001b[0m\u001b[0m\n\u001b[1;32m--> 728\u001b[1;33m                                specific_tags=specific_tags)\n\u001b[0m\u001b[0;32m    729\u001b[0m     \u001b[1;32mexcept\u001b[0m \u001b[0mEOFError\u001b[0m\u001b[1;33m:\u001b[0m\u001b[1;33m\u001b[0m\u001b[0m\n\u001b[0;32m    730\u001b[0m         \u001b[1;32mpass\u001b[0m  \u001b[1;31m# error already logged in read_dataset\u001b[0m\u001b[1;33m\u001b[0m\u001b[0m\n",
      "\u001b[1;32mC:\\Users\\bbk9\\AppData\\Local\\Continuum\\anaconda3\\envs\\UNET_lungseg\\lib\\site-packages\\pydicom\\filereader.pyc\u001b[0m in \u001b[0;36mread_dataset\u001b[1;34m(fp, is_implicit_VR, is_little_endian, bytelength, stop_when, defer_size, parent_encoding, specific_tags)\u001b[0m\n\u001b[0;32m    361\u001b[0m     \u001b[1;32mtry\u001b[0m\u001b[1;33m:\u001b[0m\u001b[1;33m\u001b[0m\u001b[0m\n\u001b[0;32m    362\u001b[0m         \u001b[1;32mwhile\u001b[0m \u001b[1;33m(\u001b[0m\u001b[0mbytelength\u001b[0m \u001b[1;32mis\u001b[0m \u001b[0mNone\u001b[0m\u001b[1;33m)\u001b[0m \u001b[1;32mor\u001b[0m \u001b[1;33m(\u001b[0m\u001b[0mfp\u001b[0m\u001b[1;33m.\u001b[0m\u001b[0mtell\u001b[0m\u001b[1;33m(\u001b[0m\u001b[1;33m)\u001b[0m \u001b[1;33m-\u001b[0m \u001b[0mfp_start\u001b[0m \u001b[1;33m<\u001b[0m \u001b[0mbytelength\u001b[0m\u001b[1;33m)\u001b[0m\u001b[1;33m:\u001b[0m\u001b[1;33m\u001b[0m\u001b[0m\n\u001b[1;32m--> 363\u001b[1;33m             \u001b[0mraw_data_element\u001b[0m \u001b[1;33m=\u001b[0m \u001b[0mnext\u001b[0m\u001b[1;33m(\u001b[0m\u001b[0mde_gen\u001b[0m\u001b[1;33m)\u001b[0m\u001b[1;33m\u001b[0m\u001b[0m\n\u001b[0m\u001b[0;32m    364\u001b[0m             \u001b[1;31m# Read data elements. Stop on some errors, but return what was read\u001b[0m\u001b[1;33m\u001b[0m\u001b[1;33m\u001b[0m\u001b[0m\n\u001b[0;32m    365\u001b[0m             \u001b[0mtag\u001b[0m \u001b[1;33m=\u001b[0m \u001b[0mraw_data_element\u001b[0m\u001b[1;33m.\u001b[0m\u001b[0mtag\u001b[0m\u001b[1;33m\u001b[0m\u001b[0m\n",
      "\u001b[1;32mC:\\Users\\bbk9\\AppData\\Local\\Continuum\\anaconda3\\envs\\UNET_lungseg\\lib\\site-packages\\pydicom\\filereader.pyc\u001b[0m in \u001b[0;36mdata_element_generator\u001b[1;34m(fp, is_implicit_VR, is_little_endian, stop_when, defer_size, encoding, specific_tags)\u001b[0m\n\u001b[0;32m    186\u001b[0m                 \u001b[0mfp\u001b[0m\u001b[1;33m.\u001b[0m\u001b[0mseek\u001b[0m\u001b[1;33m(\u001b[0m\u001b[0mfp_tell\u001b[0m\u001b[1;33m(\u001b[0m\u001b[1;33m)\u001b[0m \u001b[1;33m+\u001b[0m \u001b[0mlength\u001b[0m\u001b[1;33m)\u001b[0m\u001b[1;33m\u001b[0m\u001b[0m\n\u001b[0;32m    187\u001b[0m             \u001b[1;32melse\u001b[0m\u001b[1;33m:\u001b[0m\u001b[1;33m\u001b[0m\u001b[0m\n\u001b[1;32m--> 188\u001b[1;33m                 \u001b[0mvalue\u001b[0m \u001b[1;33m=\u001b[0m \u001b[0mfp_read\u001b[0m\u001b[1;33m(\u001b[0m\u001b[0mlength\u001b[0m\u001b[1;33m)\u001b[0m\u001b[1;33m\u001b[0m\u001b[0m\n\u001b[0m\u001b[0;32m    189\u001b[0m                 \u001b[1;32mif\u001b[0m \u001b[0mdebugging\u001b[0m\u001b[1;33m:\u001b[0m\u001b[1;33m\u001b[0m\u001b[0m\n\u001b[0;32m    190\u001b[0m                     \u001b[0mdotdot\u001b[0m \u001b[1;33m=\u001b[0m \u001b[1;34m\"   \"\u001b[0m\u001b[1;33m\u001b[0m\u001b[0m\n",
      "\u001b[1;31mKeyboardInterrupt\u001b[0m: "
     ]
    }
   ],
   "source": [
    "import os\n",
    "import sys\n",
    "cwd = os.getcwd()\n",
    "sys.path.insert(1, cwd)\n",
    "from DicomAnonymizer import Anonymizer_2\n",
    "\n",
    "root_read = 'Y:\\Bashir_Research\\Projects_Secured\\AI_Projects\\LR-M Image Data - assess'\n",
    "root_write = 'Y:\\Bashir_Research\\Projects_Secured\\AI_Projects\\LR-M Image Data - deid version3'\n",
    "if not os.path.exists(root_write):\n",
    "    os.mkdir(root_write)\n",
    "scriptFile = os.path.join(cwd, 'duke_abdominal_brandon_3.script')\n",
    "\n",
    "\n",
    "zip_list = []\n",
    "ds_list = []\n",
    "dcm_list = []\n",
    "path_list = []\n",
    "\n",
    "for case in os.listdir(root_read):\n",
    "    case_dir = os.path.join(root_read, case)\n",
    "    \n",
    "    if not case == 'LRM site 12 Duke':# 'Y:\\\\Bashir_Research\\\\Projects_Secured\\\\AI_Projects\\\\LR-M Image Data - assess\\\\LRM site 02 Cornell':\n",
    "        continue\n",
    "    \n",
    "    if os.path.isdir(case_dir):\n",
    "        print('\\n', case, '/')\n",
    "        \n",
    "        inputFolder = case_dir\n",
    "        outputFolder = os.path.join(root_write, case)\n",
    "#         try:\n",
    "        datasetAnonymizer = Anonymizer_2.DatasetAnonymizer(inputFolder, outputFolder, scriptFile)\n",
    "        datasetAnonymizer.anonymizeDatasetV2()\n",
    "#         except:\n",
    "#             print('ERROR: ', case)\n",
    "            \n",
    "#         break"
   ]
  }
 ],
 "metadata": {
  "kernelspec": {
   "display_name": "Python 2",
   "language": "python",
   "name": "python2"
  },
  "language_info": {
   "codemirror_mode": {
    "name": "ipython",
    "version": 2
   },
   "file_extension": ".py",
   "mimetype": "text/x-python",
   "name": "python",
   "nbconvert_exporter": "python",
   "pygments_lexer": "ipython2",
   "version": "2.7.16"
  }
 },
 "nbformat": 4,
 "nbformat_minor": 2
}
